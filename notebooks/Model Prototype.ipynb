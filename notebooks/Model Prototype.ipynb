{
 "metadata": {
  "language_info": {
   "codemirror_mode": {
    "name": "ipython",
    "version": 3
   },
   "file_extension": ".py",
   "mimetype": "text/x-python",
   "name": "python",
   "nbconvert_exporter": "python",
   "pygments_lexer": "ipython3",
   "version": "3.7.7-final"
  },
  "orig_nbformat": 2,
  "kernelspec": {
   "name": "typeform_test",
   "display_name": "typeform_test"
  }
 },
 "nbformat": 4,
 "nbformat_minor": 2,
 "cells": [
  {
   "cell_type": "code",
   "execution_count": 1,
   "metadata": {
    "tags": []
   },
   "outputs": [],
   "source": [
    "%load_ext autoreload\n",
    "%autoreload 2"
   ]
  },
  {
   "cell_type": "code",
   "execution_count": 2,
   "metadata": {},
   "outputs": [],
   "source": [
    "from time import time\n",
    "import pandas as pd\n",
    "import numpy as np\n",
    "import matplotlib.pyplot as plt\n",
    "import seaborn  as sns\n",
    "from sklearn.metrics import mean_squared_error"
   ]
  },
  {
   "cell_type": "code",
   "execution_count": 3,
   "metadata": {},
   "outputs": [],
   "source": [
    "from typeformtest.utils import (\n",
    "    MyPlotGrid,\n",
    "    print_distribution,\n",
    "    my_distributions_view,\n",
    "    split_dataset,\n",
    "    data_preparation_pipe,\n",
    "    global_pipeline_train,\n",
    "    update_results,\n",
    ")"
   ]
  },
  {
   "cell_type": "code",
   "execution_count": 4,
   "metadata": {
    "tags": []
   },
   "outputs": [
    {
     "output_type": "stream",
     "name": "stdout",
     "text": "/media/disk/home/pau/Projectes/typeform_test/notebooks\n"
    }
   ],
   "source": [
    "!pwd"
   ]
  },
  {
   "cell_type": "code",
   "execution_count": 5,
   "metadata": {},
   "outputs": [],
   "source": [
    "results = {\n",
    "    'name': [],\n",
    "    'prefix' : [],\n",
    "    'model_class' : [],\n",
    "    'trained_score' : [],\n",
    "    'scorer_func' : [],\n",
    "    'params' : [],\n",
    "    'test_score': [],\n",
    "}"
   ]
  },
  {
   "cell_type": "code",
   "execution_count": 6,
   "metadata": {},
   "outputs": [],
   "source": [
    "df = pd.read_csv('../data/completion_rate.csv')"
   ]
  },
  {
   "cell_type": "code",
   "execution_count": 7,
   "metadata": {},
   "outputs": [
    {
     "output_type": "execute_result",
     "data": {
      "text/plain": "   form_id  views  submissions  feat_01  feat_02  feat_03  feat_04  feat_05  \\\n0  1113027     33           27      0.0      0.0      0.0      0.0      0.0   \n1  1115313    147          111      0.0      2.0      0.0      0.0      0.0   \n2  1115907    528          136      0.0      1.0      0.0      0.0      1.0   \n3  1116299     55           21      0.0      2.0      0.0      0.0      0.0   \n4  1120373     62           54      0.0      0.0      0.0      0.0      1.0   \n\n   feat_06  feat_07  ...  feat_38  feat_39  feat_40  feat_41  feat_42  \\\n0      0.0      1.0  ...      0.0      0.0      0.0      0.0      0.0   \n1      0.0      0.0  ...      0.0      0.0      0.0      0.0      0.0   \n2      0.0      6.0  ...      0.0      0.0      0.0      0.0      1.0   \n3      1.0      2.0  ...      0.0      0.0      0.0      1.0      0.0   \n4      0.0      4.0  ...      0.0      0.0      0.0      0.0      1.0   \n\n   feat_43  feat_44  feat_45  feat_46  feat_47  \n0      0.0      0.0      2.0      1.0      2.0  \n1      0.0      0.0      0.0      0.0      0.0  \n2      1.0      0.0      0.0      0.0     30.0  \n3      0.0      0.0      0.0      0.0      7.0  \n4      1.0      1.0     11.0      7.0     21.0  \n\n[5 rows x 50 columns]",
      "text/html": "<div>\n<style scoped>\n    .dataframe tbody tr th:only-of-type {\n        vertical-align: middle;\n    }\n\n    .dataframe tbody tr th {\n        vertical-align: top;\n    }\n\n    .dataframe thead th {\n        text-align: right;\n    }\n</style>\n<table border=\"1\" class=\"dataframe\">\n  <thead>\n    <tr style=\"text-align: right;\">\n      <th></th>\n      <th>form_id</th>\n      <th>views</th>\n      <th>submissions</th>\n      <th>feat_01</th>\n      <th>feat_02</th>\n      <th>feat_03</th>\n      <th>feat_04</th>\n      <th>feat_05</th>\n      <th>feat_06</th>\n      <th>feat_07</th>\n      <th>...</th>\n      <th>feat_38</th>\n      <th>feat_39</th>\n      <th>feat_40</th>\n      <th>feat_41</th>\n      <th>feat_42</th>\n      <th>feat_43</th>\n      <th>feat_44</th>\n      <th>feat_45</th>\n      <th>feat_46</th>\n      <th>feat_47</th>\n    </tr>\n  </thead>\n  <tbody>\n    <tr>\n      <th>0</th>\n      <td>1113027</td>\n      <td>33</td>\n      <td>27</td>\n      <td>0.0</td>\n      <td>0.0</td>\n      <td>0.0</td>\n      <td>0.0</td>\n      <td>0.0</td>\n      <td>0.0</td>\n      <td>1.0</td>\n      <td>...</td>\n      <td>0.0</td>\n      <td>0.0</td>\n      <td>0.0</td>\n      <td>0.0</td>\n      <td>0.0</td>\n      <td>0.0</td>\n      <td>0.0</td>\n      <td>2.0</td>\n      <td>1.0</td>\n      <td>2.0</td>\n    </tr>\n    <tr>\n      <th>1</th>\n      <td>1115313</td>\n      <td>147</td>\n      <td>111</td>\n      <td>0.0</td>\n      <td>2.0</td>\n      <td>0.0</td>\n      <td>0.0</td>\n      <td>0.0</td>\n      <td>0.0</td>\n      <td>0.0</td>\n      <td>...</td>\n      <td>0.0</td>\n      <td>0.0</td>\n      <td>0.0</td>\n      <td>0.0</td>\n      <td>0.0</td>\n      <td>0.0</td>\n      <td>0.0</td>\n      <td>0.0</td>\n      <td>0.0</td>\n      <td>0.0</td>\n    </tr>\n    <tr>\n      <th>2</th>\n      <td>1115907</td>\n      <td>528</td>\n      <td>136</td>\n      <td>0.0</td>\n      <td>1.0</td>\n      <td>0.0</td>\n      <td>0.0</td>\n      <td>1.0</td>\n      <td>0.0</td>\n      <td>6.0</td>\n      <td>...</td>\n      <td>0.0</td>\n      <td>0.0</td>\n      <td>0.0</td>\n      <td>0.0</td>\n      <td>1.0</td>\n      <td>1.0</td>\n      <td>0.0</td>\n      <td>0.0</td>\n      <td>0.0</td>\n      <td>30.0</td>\n    </tr>\n    <tr>\n      <th>3</th>\n      <td>1116299</td>\n      <td>55</td>\n      <td>21</td>\n      <td>0.0</td>\n      <td>2.0</td>\n      <td>0.0</td>\n      <td>0.0</td>\n      <td>0.0</td>\n      <td>1.0</td>\n      <td>2.0</td>\n      <td>...</td>\n      <td>0.0</td>\n      <td>0.0</td>\n      <td>0.0</td>\n      <td>1.0</td>\n      <td>0.0</td>\n      <td>0.0</td>\n      <td>0.0</td>\n      <td>0.0</td>\n      <td>0.0</td>\n      <td>7.0</td>\n    </tr>\n    <tr>\n      <th>4</th>\n      <td>1120373</td>\n      <td>62</td>\n      <td>54</td>\n      <td>0.0</td>\n      <td>0.0</td>\n      <td>0.0</td>\n      <td>0.0</td>\n      <td>1.0</td>\n      <td>0.0</td>\n      <td>4.0</td>\n      <td>...</td>\n      <td>0.0</td>\n      <td>0.0</td>\n      <td>0.0</td>\n      <td>0.0</td>\n      <td>1.0</td>\n      <td>1.0</td>\n      <td>1.0</td>\n      <td>11.0</td>\n      <td>7.0</td>\n      <td>21.0</td>\n    </tr>\n  </tbody>\n</table>\n<p>5 rows × 50 columns</p>\n</div>"
     },
     "metadata": {},
     "execution_count": 7
    }
   ],
   "source": [
    "df.head()"
   ]
  },
  {
   "cell_type": "code",
   "execution_count": 8,
   "metadata": {},
   "outputs": [
    {
     "output_type": "execute_result",
     "data": {
      "text/plain": "Index(['form_id', 'views', 'submissions', 'feat_01', 'feat_02', 'feat_03',\n       'feat_04', 'feat_05', 'feat_06', 'feat_07', 'feat_08', 'feat_09',\n       'feat_10', 'feat_11', 'feat_12', 'feat_13', 'feat_14', 'feat_15',\n       'feat_16', 'feat_17', 'feat_18', 'feat_19', 'feat_20', 'feat_21',\n       'feat_22', 'feat_23', 'feat_24', 'feat_25', 'feat_26', 'feat_27',\n       'feat_28', 'feat_29', 'feat_30', 'feat_31', 'feat_32', 'feat_33',\n       'feat_34', 'feat_35', 'feat_36', 'feat_37', 'feat_38', 'feat_39',\n       'feat_40', 'feat_41', 'feat_42', 'feat_43', 'feat_44', 'feat_45',\n       'feat_46', 'feat_47'],\n      dtype='object')"
     },
     "metadata": {},
     "execution_count": 8
    }
   ],
   "source": [
    "df.columns"
   ]
  },
  {
   "cell_type": "code",
   "execution_count": 9,
   "metadata": {},
   "outputs": [
    {
     "output_type": "execute_result",
     "data": {
      "text/plain": "            form_id         views   submissions       feat_01       feat_02  \\\ncount  1.031284e+06  1.031284e+06  1.031284e+06  1.031284e+06  1.031284e+06   \nmean   7.987444e+06  9.395541e+02  3.224132e+02  1.954515e-01  3.749122e-01   \nstd    3.965056e+06  2.674871e+04  8.507656e+03  3.965481e-01  9.334260e-01   \nmin    2.255130e+05  1.000000e+00  0.000000e+00  0.000000e+00  0.000000e+00   \n25%    3.849671e+06  3.600000e+01  1.700000e+01  0.000000e+00  0.000000e+00   \n50%    9.887946e+06  7.900000e+01  3.300000e+01  0.000000e+00  0.000000e+00   \n75%    1.149435e+07  2.260000e+02  9.000000e+01  0.000000e+00  0.000000e+00   \nmax    1.350100e+07  1.226718e+07  6.754385e+06  1.000000e+00  5.500000e+01   \n\n            feat_03       feat_04       feat_05       feat_06       feat_07  \\\ncount  1.031284e+06  1.031284e+06  1.031284e+06  1.031284e+06  1.031284e+06   \nmean   5.497322e-02  1.024936e-03  1.449494e-01  1.769047e-01  8.513950e-01   \nstd    4.403415e-01  3.307117e-02  4.802633e-01  9.472932e-01  1.883366e+00   \nmin    0.000000e+00  0.000000e+00  0.000000e+00  0.000000e+00  0.000000e+00   \n25%    0.000000e+00  0.000000e+00  0.000000e+00  0.000000e+00  0.000000e+00   \n50%    0.000000e+00  0.000000e+00  0.000000e+00  0.000000e+00  0.000000e+00   \n75%    0.000000e+00  0.000000e+00  0.000000e+00  0.000000e+00  1.000000e+00   \nmax    7.800000e+01  5.000000e+00  8.700000e+01  9.600000e+01  1.240000e+02   \n\n       ...       feat_38       feat_39       feat_40       feat_41  \\\ncount  ...  1.031284e+06  1.031284e+06  1.031284e+06  1.031284e+06   \nmean   ...  2.399572e-01  5.879176e-02  1.948299e-01  1.551163e-01   \nstd    ...  1.266072e+00  4.198431e-01  1.173311e+00  7.668222e-01   \nmin    ...  0.000000e+00  0.000000e+00  0.000000e+00  0.000000e+00   \n25%    ...  0.000000e+00  0.000000e+00  0.000000e+00  0.000000e+00   \n50%    ...  0.000000e+00  0.000000e+00  0.000000e+00  0.000000e+00   \n75%    ...  0.000000e+00  0.000000e+00  0.000000e+00  0.000000e+00   \nmax    ...  1.050000e+02  4.600000e+01  1.000000e+02  1.350000e+02   \n\n            feat_42       feat_43       feat_44       feat_45       feat_46  \\\ncount  1.031284e+06  1.031284e+06  1.031284e+06  1.031284e+06  1.031284e+06   \nmean   2.771681e-01  3.399791e-01  4.803430e-02  8.318746e-01  6.470032e-01   \nstd    5.640830e-01  6.157581e-01  2.834470e-01  4.302039e+00  6.045358e+00   \nmin    0.000000e+00  0.000000e+00  0.000000e+00  0.000000e+00  0.000000e+00   \n25%    0.000000e+00  0.000000e+00  0.000000e+00  0.000000e+00  0.000000e+00   \n50%    0.000000e+00  0.000000e+00  0.000000e+00  0.000000e+00  0.000000e+00   \n75%    1.000000e+00  1.000000e+00  0.000000e+00  0.000000e+00  0.000000e+00   \nmax    8.700000e+01  8.700000e+01  8.700000e+01  5.900000e+02  2.065000e+03   \n\n            feat_47  \ncount  1.031284e+06  \nmean   4.468738e+00  \nstd    1.085162e+01  \nmin    0.000000e+00  \n25%    0.000000e+00  \n50%    0.000000e+00  \n75%    5.000000e+00  \nmax    1.145000e+03  \n\n[8 rows x 50 columns]",
      "text/html": "<div>\n<style scoped>\n    .dataframe tbody tr th:only-of-type {\n        vertical-align: middle;\n    }\n\n    .dataframe tbody tr th {\n        vertical-align: top;\n    }\n\n    .dataframe thead th {\n        text-align: right;\n    }\n</style>\n<table border=\"1\" class=\"dataframe\">\n  <thead>\n    <tr style=\"text-align: right;\">\n      <th></th>\n      <th>form_id</th>\n      <th>views</th>\n      <th>submissions</th>\n      <th>feat_01</th>\n      <th>feat_02</th>\n      <th>feat_03</th>\n      <th>feat_04</th>\n      <th>feat_05</th>\n      <th>feat_06</th>\n      <th>feat_07</th>\n      <th>...</th>\n      <th>feat_38</th>\n      <th>feat_39</th>\n      <th>feat_40</th>\n      <th>feat_41</th>\n      <th>feat_42</th>\n      <th>feat_43</th>\n      <th>feat_44</th>\n      <th>feat_45</th>\n      <th>feat_46</th>\n      <th>feat_47</th>\n    </tr>\n  </thead>\n  <tbody>\n    <tr>\n      <th>count</th>\n      <td>1.031284e+06</td>\n      <td>1.031284e+06</td>\n      <td>1.031284e+06</td>\n      <td>1.031284e+06</td>\n      <td>1.031284e+06</td>\n      <td>1.031284e+06</td>\n      <td>1.031284e+06</td>\n      <td>1.031284e+06</td>\n      <td>1.031284e+06</td>\n      <td>1.031284e+06</td>\n      <td>...</td>\n      <td>1.031284e+06</td>\n      <td>1.031284e+06</td>\n      <td>1.031284e+06</td>\n      <td>1.031284e+06</td>\n      <td>1.031284e+06</td>\n      <td>1.031284e+06</td>\n      <td>1.031284e+06</td>\n      <td>1.031284e+06</td>\n      <td>1.031284e+06</td>\n      <td>1.031284e+06</td>\n    </tr>\n    <tr>\n      <th>mean</th>\n      <td>7.987444e+06</td>\n      <td>9.395541e+02</td>\n      <td>3.224132e+02</td>\n      <td>1.954515e-01</td>\n      <td>3.749122e-01</td>\n      <td>5.497322e-02</td>\n      <td>1.024936e-03</td>\n      <td>1.449494e-01</td>\n      <td>1.769047e-01</td>\n      <td>8.513950e-01</td>\n      <td>...</td>\n      <td>2.399572e-01</td>\n      <td>5.879176e-02</td>\n      <td>1.948299e-01</td>\n      <td>1.551163e-01</td>\n      <td>2.771681e-01</td>\n      <td>3.399791e-01</td>\n      <td>4.803430e-02</td>\n      <td>8.318746e-01</td>\n      <td>6.470032e-01</td>\n      <td>4.468738e+00</td>\n    </tr>\n    <tr>\n      <th>std</th>\n      <td>3.965056e+06</td>\n      <td>2.674871e+04</td>\n      <td>8.507656e+03</td>\n      <td>3.965481e-01</td>\n      <td>9.334260e-01</td>\n      <td>4.403415e-01</td>\n      <td>3.307117e-02</td>\n      <td>4.802633e-01</td>\n      <td>9.472932e-01</td>\n      <td>1.883366e+00</td>\n      <td>...</td>\n      <td>1.266072e+00</td>\n      <td>4.198431e-01</td>\n      <td>1.173311e+00</td>\n      <td>7.668222e-01</td>\n      <td>5.640830e-01</td>\n      <td>6.157581e-01</td>\n      <td>2.834470e-01</td>\n      <td>4.302039e+00</td>\n      <td>6.045358e+00</td>\n      <td>1.085162e+01</td>\n    </tr>\n    <tr>\n      <th>min</th>\n      <td>2.255130e+05</td>\n      <td>1.000000e+00</td>\n      <td>0.000000e+00</td>\n      <td>0.000000e+00</td>\n      <td>0.000000e+00</td>\n      <td>0.000000e+00</td>\n      <td>0.000000e+00</td>\n      <td>0.000000e+00</td>\n      <td>0.000000e+00</td>\n      <td>0.000000e+00</td>\n      <td>...</td>\n      <td>0.000000e+00</td>\n      <td>0.000000e+00</td>\n      <td>0.000000e+00</td>\n      <td>0.000000e+00</td>\n      <td>0.000000e+00</td>\n      <td>0.000000e+00</td>\n      <td>0.000000e+00</td>\n      <td>0.000000e+00</td>\n      <td>0.000000e+00</td>\n      <td>0.000000e+00</td>\n    </tr>\n    <tr>\n      <th>25%</th>\n      <td>3.849671e+06</td>\n      <td>3.600000e+01</td>\n      <td>1.700000e+01</td>\n      <td>0.000000e+00</td>\n      <td>0.000000e+00</td>\n      <td>0.000000e+00</td>\n      <td>0.000000e+00</td>\n      <td>0.000000e+00</td>\n      <td>0.000000e+00</td>\n      <td>0.000000e+00</td>\n      <td>...</td>\n      <td>0.000000e+00</td>\n      <td>0.000000e+00</td>\n      <td>0.000000e+00</td>\n      <td>0.000000e+00</td>\n      <td>0.000000e+00</td>\n      <td>0.000000e+00</td>\n      <td>0.000000e+00</td>\n      <td>0.000000e+00</td>\n      <td>0.000000e+00</td>\n      <td>0.000000e+00</td>\n    </tr>\n    <tr>\n      <th>50%</th>\n      <td>9.887946e+06</td>\n      <td>7.900000e+01</td>\n      <td>3.300000e+01</td>\n      <td>0.000000e+00</td>\n      <td>0.000000e+00</td>\n      <td>0.000000e+00</td>\n      <td>0.000000e+00</td>\n      <td>0.000000e+00</td>\n      <td>0.000000e+00</td>\n      <td>0.000000e+00</td>\n      <td>...</td>\n      <td>0.000000e+00</td>\n      <td>0.000000e+00</td>\n      <td>0.000000e+00</td>\n      <td>0.000000e+00</td>\n      <td>0.000000e+00</td>\n      <td>0.000000e+00</td>\n      <td>0.000000e+00</td>\n      <td>0.000000e+00</td>\n      <td>0.000000e+00</td>\n      <td>0.000000e+00</td>\n    </tr>\n    <tr>\n      <th>75%</th>\n      <td>1.149435e+07</td>\n      <td>2.260000e+02</td>\n      <td>9.000000e+01</td>\n      <td>0.000000e+00</td>\n      <td>0.000000e+00</td>\n      <td>0.000000e+00</td>\n      <td>0.000000e+00</td>\n      <td>0.000000e+00</td>\n      <td>0.000000e+00</td>\n      <td>1.000000e+00</td>\n      <td>...</td>\n      <td>0.000000e+00</td>\n      <td>0.000000e+00</td>\n      <td>0.000000e+00</td>\n      <td>0.000000e+00</td>\n      <td>1.000000e+00</td>\n      <td>1.000000e+00</td>\n      <td>0.000000e+00</td>\n      <td>0.000000e+00</td>\n      <td>0.000000e+00</td>\n      <td>5.000000e+00</td>\n    </tr>\n    <tr>\n      <th>max</th>\n      <td>1.350100e+07</td>\n      <td>1.226718e+07</td>\n      <td>6.754385e+06</td>\n      <td>1.000000e+00</td>\n      <td>5.500000e+01</td>\n      <td>7.800000e+01</td>\n      <td>5.000000e+00</td>\n      <td>8.700000e+01</td>\n      <td>9.600000e+01</td>\n      <td>1.240000e+02</td>\n      <td>...</td>\n      <td>1.050000e+02</td>\n      <td>4.600000e+01</td>\n      <td>1.000000e+02</td>\n      <td>1.350000e+02</td>\n      <td>8.700000e+01</td>\n      <td>8.700000e+01</td>\n      <td>8.700000e+01</td>\n      <td>5.900000e+02</td>\n      <td>2.065000e+03</td>\n      <td>1.145000e+03</td>\n    </tr>\n  </tbody>\n</table>\n<p>8 rows × 50 columns</p>\n</div>"
     },
     "metadata": {},
     "execution_count": 9
    }
   ],
   "source": [
    "df.describe()"
   ]
  },
  {
   "cell_type": "code",
   "execution_count": 10,
   "metadata": {
    "tags": []
   },
   "outputs": [
    {
     "output_type": "stream",
     "name": "stdout",
     "text": "1031284\n<class 'pandas.core.frame.DataFrame'>\nRangeIndex: 1031284 entries, 0 to 1031283\nData columns (total 50 columns):\n #   Column       Non-Null Count    Dtype  \n---  ------       --------------    -----  \n 0   form_id      1031284 non-null  int64  \n 1   views        1031284 non-null  int64  \n 2   submissions  1031284 non-null  int64  \n 3   feat_01      1031284 non-null  float64\n 4   feat_02      1031284 non-null  float64\n 5   feat_03      1031284 non-null  float64\n 6   feat_04      1031284 non-null  float64\n 7   feat_05      1031284 non-null  float64\n 8   feat_06      1031284 non-null  float64\n 9   feat_07      1031284 non-null  float64\n 10  feat_08      1031284 non-null  float64\n 11  feat_09      1031284 non-null  float64\n 12  feat_10      1031284 non-null  float64\n 13  feat_11      1031284 non-null  float64\n 14  feat_12      1031284 non-null  float64\n 15  feat_13      1031284 non-null  float64\n 16  feat_14      1031284 non-null  float64\n 17  feat_15      1031284 non-null  float64\n 18  feat_16      1031284 non-null  float64\n 19  feat_17      1031284 non-null  float64\n 20  feat_18      1031284 non-null  float64\n 21  feat_19      1031284 non-null  float64\n 22  feat_20      1031284 non-null  float64\n 23  feat_21      1031284 non-null  float64\n 24  feat_22      1031284 non-null  float64\n 25  feat_23      1031284 non-null  float64\n 26  feat_24      1031284 non-null  float64\n 27  feat_25      1031284 non-null  float64\n 28  feat_26      1031284 non-null  float64\n 29  feat_27      1031284 non-null  float64\n 30  feat_28      1031284 non-null  float64\n 31  feat_29      1031284 non-null  float64\n 32  feat_30      1031284 non-null  float64\n 33  feat_31      1031284 non-null  float64\n 34  feat_32      1031284 non-null  float64\n 35  feat_33      1031284 non-null  float64\n 36  feat_34      1031284 non-null  float64\n 37  feat_35      1031284 non-null  float64\n 38  feat_36      1031284 non-null  float64\n 39  feat_37      1031284 non-null  float64\n 40  feat_38      1031284 non-null  float64\n 41  feat_39      1031284 non-null  float64\n 42  feat_40      1031284 non-null  float64\n 43  feat_41      1031284 non-null  float64\n 44  feat_42      1031284 non-null  float64\n 45  feat_43      1031284 non-null  float64\n 46  feat_44      1031284 non-null  float64\n 47  feat_45      1031284 non-null  float64\n 48  feat_46      1031284 non-null  float64\n 49  feat_47      1031284 non-null  float64\ndtypes: float64(47), int64(3)\nmemory usage: 393.4 MB\n"
    }
   ],
   "source": [
    "# missing data?\n",
    "print(len(df))\n",
    "df.info()"
   ]
  },
  {
   "cell_type": "code",
   "execution_count": 11,
   "metadata": {},
   "outputs": [],
   "source": [
    "# since we are going to predict the ratio, let's compute it now and look for outliers in it\n",
    "#df['completion_ratio'] = df['submissions']/df['views']"
   ]
  },
  {
   "cell_type": "code",
   "execution_count": 12,
   "metadata": {
    "tags": []
   },
   "outputs": [
    {
     "output_type": "stream",
     "name": "stdout",
     "text": "['feat_01', 'feat_02', 'feat_03', 'feat_04', 'feat_05', 'feat_06', 'feat_07', 'feat_08', 'feat_09', 'feat_10', 'feat_11', 'feat_12', 'feat_13', 'feat_14', 'feat_15', 'feat_16', 'feat_17', 'feat_18', 'feat_19', 'feat_20', 'feat_21', 'feat_22', 'feat_23', 'feat_24', 'feat_25', 'feat_26', 'feat_27', 'feat_28', 'feat_29', 'feat_30', 'feat_31', 'feat_32', 'feat_33', 'feat_34', 'feat_35', 'feat_36', 'feat_37', 'feat_38', 'feat_39', 'feat_40', 'feat_41', 'feat_42', 'feat_43', 'feat_44', 'feat_45', 'feat_46', 'feat_47']\n"
    }
   ],
   "source": [
    "# we will remove the 'form_id', 'views', 'submissions', columns from the distribution visualization, since we are not interested on those\n",
    "\n",
    "selected_columns = list(df.columns)\n",
    "selected_columns.pop(selected_columns.index('form_id'))\n",
    "selected_columns.pop(selected_columns.index('views'))\n",
    "selected_columns.pop(selected_columns.index('submissions'))\n",
    "print(selected_columns)\n",
    "#df_original = df.loc[:,selected_columns]\n",
    "\n",
    "\n",
    "\n",
    "\n"
   ]
  },
  {
   "cell_type": "markdown",
   "metadata": {},
   "source": [
    "* We observe that features 21 and 23 are highly correlated\n",
    "* we observe that features 45 and 21 are highly correlated\n",
    "* we observe that features 45 and 46 are highly correlated\n",
    "* we could try to remove features 05, 07 and 33 also"
   ]
  },
  {
   "cell_type": "markdown",
   "metadata": {},
   "source": [
    "## Data Preparation\n",
    "\n",
    "\n",
    "* Sampling the dataset to work faster in the prototype\n",
    "* Splitting the dataset into train, validation, test\n",
    "* Generating a scikit-learn pipeline that includes neede processing of the data\n",
    "    * Generating the target column named \"completion_ration\"\n",
    "    * remove unwanted columns (ItemSelector)\n",
    "    * include the option to remove the highly correlated variables (ItemSelector)"
   ]
  },
  {
   "cell_type": "code",
   "execution_count": 13,
   "metadata": {
    "tags": []
   },
   "outputs": [
    {
     "output_type": "stream",
     "name": "stdout",
     "text": "412514\n330011 264008 66003 82503\n"
    }
   ],
   "source": [
    "df = df.sample(frac=0.4)\n",
    "print(len(df))\n",
    "X_train_val, X_train, X_validation, X_test = split_dataset(df)\n",
    "print(len(X_train_val),len(X_train),len(X_validation),len(X_test))"
   ]
  },
  {
   "cell_type": "code",
   "execution_count": 14,
   "metadata": {
    "tags": []
   },
   "outputs": [
    {
     "output_type": "stream",
     "name": "stdout",
     "text": "Total time 4.345619440078735 s\n"
    },
    {
     "output_type": "execute_result",
     "data": {
      "text/plain": "         name prefix         model_class  trained_score         scorer_func  \\\n0  LinearRegr    clf  LinearRegression()          -0.22  mean_squared_error   \n\n  params  test_score  \n0     {}        0.05  ",
      "text/html": "<div>\n<style scoped>\n    .dataframe tbody tr th:only-of-type {\n        vertical-align: middle;\n    }\n\n    .dataframe tbody tr th {\n        vertical-align: top;\n    }\n\n    .dataframe thead th {\n        text-align: right;\n    }\n</style>\n<table border=\"1\" class=\"dataframe\">\n  <thead>\n    <tr style=\"text-align: right;\">\n      <th></th>\n      <th>name</th>\n      <th>prefix</th>\n      <th>model_class</th>\n      <th>trained_score</th>\n      <th>scorer_func</th>\n      <th>params</th>\n      <th>test_score</th>\n    </tr>\n  </thead>\n  <tbody>\n    <tr>\n      <th>0</th>\n      <td>LinearRegr</td>\n      <td>clf</td>\n      <td>LinearRegression()</td>\n      <td>-0.22</td>\n      <td>mean_squared_error</td>\n      <td>{}</td>\n      <td>0.05</td>\n    </tr>\n  </tbody>\n</table>\n</div>"
     },
     "metadata": {},
     "execution_count": 14
    }
   ],
   "source": [
    "# look how to generate the target on the pipeline and then train\n",
    "start = time()\n",
    "result_line = global_pipeline_train(\n",
    "    all_features=selected_columns,\n",
    "    numerical_features=selected_columns,\n",
    "    params_grid=[\n",
    "        {\n",
    "        },\n",
    "    ],\n",
    "    score='neg_root_mean_squared_error',\n",
    "    score_cls = mean_squared_error,\n",
    "    X_train_val=X_train_val,\n",
    "    X_test=X_test,\n",
    "    target_column='completion_ratio',\n",
    "    training_job_name='LinearRegr',\n",
    "    model_type='linearRegression',\n",
    ")    \n",
    "end = time()\n",
    "print(\"Total time\", end-start,\"s\")\n",
    "update_results(results, result_line)\n",
    "pd.DataFrame(results).round(2)\n"
   ]
  },
  {
   "cell_type": "code",
   "execution_count": 15,
   "metadata": {
    "tags": []
   },
   "outputs": [
    {
     "output_type": "stream",
     "name": "stdout",
     "text": "Total time 1.6983227729797363 s\n"
    },
    {
     "output_type": "execute_result",
     "data": {
      "text/plain": "         name prefix         model_class  trained_score         scorer_func  \\\n0  LinearRegr    clf  LinearRegression()          -0.22  mean_squared_error   \n1   RidgeRegr    clf    Ridge(alpha=0.5)          -0.22  mean_squared_error   \n\n  params  test_score  \n0     {}        0.05  \n1     {}        0.05  ",
      "text/html": "<div>\n<style scoped>\n    .dataframe tbody tr th:only-of-type {\n        vertical-align: middle;\n    }\n\n    .dataframe tbody tr th {\n        vertical-align: top;\n    }\n\n    .dataframe thead th {\n        text-align: right;\n    }\n</style>\n<table border=\"1\" class=\"dataframe\">\n  <thead>\n    <tr style=\"text-align: right;\">\n      <th></th>\n      <th>name</th>\n      <th>prefix</th>\n      <th>model_class</th>\n      <th>trained_score</th>\n      <th>scorer_func</th>\n      <th>params</th>\n      <th>test_score</th>\n    </tr>\n  </thead>\n  <tbody>\n    <tr>\n      <th>0</th>\n      <td>LinearRegr</td>\n      <td>clf</td>\n      <td>LinearRegression()</td>\n      <td>-0.22</td>\n      <td>mean_squared_error</td>\n      <td>{}</td>\n      <td>0.05</td>\n    </tr>\n    <tr>\n      <th>1</th>\n      <td>RidgeRegr</td>\n      <td>clf</td>\n      <td>Ridge(alpha=0.5)</td>\n      <td>-0.22</td>\n      <td>mean_squared_error</td>\n      <td>{}</td>\n      <td>0.05</td>\n    </tr>\n  </tbody>\n</table>\n</div>"
     },
     "metadata": {},
     "execution_count": 15
    }
   ],
   "source": [
    "# look how to generate the target on the pipeline and then train\n",
    "start = time()\n",
    "result_line = global_pipeline_train(\n",
    "    all_features=selected_columns,\n",
    "    numerical_features=selected_columns,\n",
    "    params_grid=[\n",
    "        {\n",
    "        },\n",
    "    ],\n",
    "    score='neg_root_mean_squared_error',\n",
    "    score_cls = mean_squared_error,\n",
    "    X_train_val=X_train_val,\n",
    "    X_test=X_test,\n",
    "    target_column='completion_ratio',\n",
    "    training_job_name='RidgeRegr',\n",
    "    model_type='Ridge',\n",
    ")    \n",
    "\n",
    "end = time()\n",
    "print(\"Total time\", end-start,\"s\")\n",
    "update_results(results, result_line)\n",
    "pd.DataFrame(results).round(2)\n"
   ]
  },
  {
   "cell_type": "code",
   "execution_count": null,
   "metadata": {},
   "outputs": [],
   "source": []
  }
 ]
}